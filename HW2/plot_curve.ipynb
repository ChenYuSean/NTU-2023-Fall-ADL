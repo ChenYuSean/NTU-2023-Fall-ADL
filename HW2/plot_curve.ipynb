{
 "cells": [
  {
   "cell_type": "code",
   "execution_count": null,
   "metadata": {},
   "outputs": [],
   "source": [
    "import matplotlib.pyplot as plt\n",
    "from tw_rouge import get_rouge\n",
    "import json"
   ]
  },
  {
   "cell_type": "code",
   "execution_count": null,
   "metadata": {},
   "outputs": [],
   "source": [
    "with open('./output/valid_result') as f:\n",
    "    data = json.load(f)"
   ]
  },
  {
   "cell_type": "code",
   "execution_count": null,
   "metadata": {},
   "outputs": [],
   "source": []
  },
  {
   "cell_type": "code",
   "execution_count": null,
   "metadata": {},
   "outputs": [],
   "source": [
    "# Plotting the Graph\n",
    "plt.plot(table[:,0], table[:,1])\n",
    "plt.title(\"Learning Curve of Rouge 1\")\n",
    "plt.xlabel(\"epoch\")\n",
    "plt.ylabel(\"rouge 1\")\n",
    "plt.savefig(\"Rouge 1.png\")\n",
    "plt.show()"
   ]
  }
 ],
 "metadata": {
  "language_info": {
   "name": "python"
  }
 },
 "nbformat": 4,
 "nbformat_minor": 2
}
