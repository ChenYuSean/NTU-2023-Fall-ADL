{
 "cells": [
  {
   "cell_type": "code",
   "execution_count": 16,
   "metadata": {},
   "outputs": [],
   "source": [
    "import copy\n",
    "import json\n",
    "import os\n",
    "import sys\n",
    "import numpy as np\n",
    "import random\n",
    "\n",
    "import datasets\n",
    "from datasets import Dataset\n",
    "import torch\n",
    "import transformers\n",
    "from torch.nn.utils.rnn import pad_sequence\n",
    "import argparse\n"
   ]
  },
  {
   "cell_type": "code",
   "execution_count": 38,
   "metadata": {},
   "outputs": [],
   "source": [
    "def read_json_files(path, max_file_num=None):\n",
    "    json_files_content = {}\n",
    "    content_list = []\n",
    "    file_num = 0\n",
    "    for root, dirs, files in os.walk(path):\n",
    "        for file in files:\n",
    "            if file.endswith('.json') and file != \"star_record.json\":\n",
    "                file_num += 1\n",
    "                with open(os.path.join(root, file), 'r', encoding='utf-8') as f:\n",
    "                    content = json.load(f)\n",
    "                    # json_files_content[file] = content\n",
    "                    for record in content:\n",
    "                        if type(record['votes']) == str:\n",
    "                            if '萬' in record['votes']:\n",
    "                                record['votes'] = int(record['votes'].replace('萬', '')) * 10000\n",
    "                    content_list += content\n",
    "            if max_file_num is not None and file_num >= max_file_num:\n",
    "                break\n",
    "    return content_list\n"
   ]
  },
  {
   "cell_type": "code",
   "execution_count": 3,
   "metadata": {},
   "outputs": [],
   "source": [
    "def get_prompt(title:str, description:str, star_num:str, mood:str) -> str:\n",
    "    '''Format the instruction as a prompt for LLM.'''\n",
    "    \n",
    "    seed = random.random()\n",
    "    comment_type = '好評' if star_num.split('.')[0] in ['4', '5'] else '差評' if star_num.split('.')[0] in ['1', '2'] else '中立評論'\n",
    "    if mood == 'like':\n",
    "        mood = '喜歡'\n",
    "    elif mood == 'happiness':\n",
    "        mood = '開心'\n",
    "    elif mood == 'sadness':\n",
    "        mood = '難過'\n",
    "    elif mood == 'disgust':\n",
    "        mood = '厭惡'\n",
    "    elif mood == 'anger':\n",
    "        mood = '生氣'\n",
    "    elif mood == 'surprise':\n",
    "        mood = '驚訝'\n",
    "    elif mood == 'none':\n",
    "        mood = '中立'\n",
    "    \n",
    "    return f\"{seed} 你是人工智慧助理，以下是用戶和人工智能助理之間的對話。你要對用戶的問題提供有用、安全、詳細和禮貌的回答。\\\n",
    "USER: 請幫這部影片生出對應需求的{comment_type}。影片標題:[{title}]。影片敘述:[{description}]。需求情感:[{mood}]。\\\n",
    "ASSISTANT:\"\n"
   ]
  },
  {
   "cell_type": "code",
   "execution_count": 39,
   "metadata": {},
   "outputs": [
    {
     "name": "stdout",
     "output_type": "stream",
     "text": [
      "Dataset({\n",
      "    features: ['video_id', 'video_title', 'video_description', 'cid', 'comment_text', 'votes', 'time', 'star_num', 'mood'],\n",
      "    num_rows: 91287\n",
      "})\n"
     ]
    }
   ],
   "source": [
    "# %%\n",
    "if __name__ == '__main__':\n",
    "    PATH = \"./train_data\"\n",
    "    content = read_json_files(PATH,500)\n",
    "    dataset = Dataset.from_list(content)\n",
    "    print(dataset)\n",
    "    \n"
   ]
  }
 ],
 "metadata": {
  "kernelspec": {
   "display_name": "adl-hw3",
   "language": "python",
   "name": "python3"
  },
  "language_info": {
   "codemirror_mode": {
    "name": "ipython",
    "version": 3
   },
   "file_extension": ".py",
   "mimetype": "text/x-python",
   "name": "python",
   "nbconvert_exporter": "python",
   "pygments_lexer": "ipython3",
   "version": "3.11.5"
  }
 },
 "nbformat": 4,
 "nbformat_minor": 2
}
