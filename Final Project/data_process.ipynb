{
 "cells": [
  {
   "cell_type": "code",
   "execution_count": 7,
   "metadata": {},
   "outputs": [],
   "source": [
    "import copy\n",
    "import json\n",
    "import os\n",
    "import sys\n",
    "import numpy as np\n",
    "import random\n",
    "\n",
    "import datasets\n",
    "from datasets import Dataset\n",
    "import torch\n",
    "import transformers\n",
    "from torch.nn.utils.rnn import pad_sequence\n",
    "import argparse\n"
   ]
  },
  {
   "cell_type": "code",
   "execution_count": 8,
   "metadata": {},
   "outputs": [],
   "source": [
    "def read_json_files(path, max_file_num:int = None, max_sample_per_file: int = None, shuffle = True):\n",
    "    json_files_content = {}\n",
    "    content_list = []\n",
    "    # Get the file names\n",
    "    files = []\n",
    "    for root, dirs, filenames in os.walk(path):\n",
    "        for file in filenames:\n",
    "            if file.endswith('.json') and file != \"star_record.json\":\n",
    "                files.append(os.path.join(root, file))  \n",
    "    # Shuffle the list\n",
    "    if shuffle:\n",
    "        random.shuffle(files)\n",
    "    # Read the files\n",
    "    file_num = 0         \n",
    "    for file in files:\n",
    "        file_num = file_num + 1\n",
    "        with open(file, 'r', encoding='utf-8') as f:\n",
    "            content = json.load(f)\n",
    "            if shuffle:\n",
    "                random.shuffle(content)\n",
    "            # json_files_content[file] = content\n",
    "            for record in content:\n",
    "                if type(record['votes']) == str:\n",
    "                    if '萬' in record['votes']:\n",
    "                        record['votes'] = int(record['votes'].replace('萬', '')) * 10000\n",
    "            if max_sample_per_file is not None:\n",
    "                content_list += content[:max_sample_per_file]\n",
    "            else:\n",
    "                content_list += content\n",
    "        if max_file_num is not None and file_num >= max_file_num:\n",
    "            break\n",
    "    return content_list\n"
   ]
  },
  {
   "cell_type": "code",
   "execution_count": 9,
   "metadata": {},
   "outputs": [],
   "source": [
    "def get_prompt(title:str, description:str, star_num:str, mood:str) -> str:\n",
    "    '''Format the instruction as a prompt for LLM.'''\n",
    "    \n",
    "    seed = random.random()\n",
    "    comment_type = '好評' if star_num.split('.')[0] in ['4', '5'] else '差評' if star_num.split('.')[0] in ['1', '2'] else '中立評論'\n",
    "    if mood == 'like':\n",
    "        mood = '喜歡'\n",
    "    elif mood == 'happiness':\n",
    "        mood = '開心'\n",
    "    elif mood == 'sadness':\n",
    "        mood = '難過'\n",
    "    elif mood == 'disgust':\n",
    "        mood = '厭惡'\n",
    "    elif mood == 'anger':\n",
    "        mood = '生氣'\n",
    "    elif mood == 'surprise':\n",
    "        mood = '驚訝'\n",
    "    elif mood == 'fear':\n",
    "        mood = '害怕'\n",
    "    elif mood == 'none':\n",
    "        mood = '中立'\n",
    "    \n",
    "    return f\"{seed} 你是人工智慧助理，以下是用戶和人工智能助理之間的對話。你要對用戶的問題提供有用、詳細的回答。\\\n",
    "USER: 請幫這部影片生出對應需求的{comment_type}。影片標題:[{title}]。影片敘述:[{description}]。需求情感:[{mood}]。\\\n",
    "ASSISTANT:\"\n"
   ]
  },
  {
   "cell_type": "code",
   "execution_count": 12,
   "metadata": {},
   "outputs": [
    {
     "name": "stdout",
     "output_type": "stream",
     "text": [
      "[{'video_id': 'WyCnyDt-vMQ', 'video_title': '【@ebcapocalypse  全集】20231112 單純女會計遇害成「甘蔗園女焦屍」緊追狠嫌索命！？冤魂現身「連法警書記官都目擊」！？凶手回現場求饒「死者不要再來找我」｜洪培翔', 'video_description': '00:00 神秘力量牽引？外地人走捷徑赫見甘蔗園女焦屍！火燒變形SIM卡一開機鈴聲就響！是誰打來？\\n10:40 心軟幫忙挪公款竟惹麻煩？出門散心卻成焦屍...', 'cid': 'Ugw0UCcNUCY39zrotnZ4AaABAg', 'comment_text': '強盜性侵案無期徒刑➡️假釋期間殺人焚屍➡️入監後保外就醫➡️持刀行搶傷害女被害人。(而若是身體沒有不適又性侵女被害人又或是再殺人呢？)\\n請問這種人渣、這些人渣還能教化嗎？法官....？', 'votes': 7, 'time': 1700661195.56781, 'star_num': 'star 1', 'mood': 'anger'}, {'video_id': 'WyCnyDt-vMQ', 'video_title': '【@ebcapocalypse  全集】20231112 單純女會計遇害成「甘蔗園女焦屍」緊追狠嫌索命！？冤魂現身「連法警書記官都目擊」！？凶手回現場求饒「死者不要再來找我」｜洪培翔', 'video_description': '00:00 神秘力量牽引？外地人走捷徑赫見甘蔗園女焦屍！火燒變形SIM卡一開機鈴聲就響！是誰打來？\\n10:40 心軟幫忙挪公款竟惹麻煩？出門散心卻成焦屍...', 'cid': 'Ugy_kv_qM0M_ZDKc4ZJ4AaABAg', 'comment_text': '這因果就此結束了嗎？\\n我猜下一世會再相遇的', 'votes': 1, 'time': 1700661197.184497, 'star_num': 'star 5', 'mood': 'sadness'}, {'video_id': 'WyCnyDt-vMQ', 'video_title': '【@ebcapocalypse  全集】20231112 單純女會計遇害成「甘蔗園女焦屍」緊追狠嫌索命！？冤魂現身「連法警書記官都目擊」！？凶手回現場求饒「死者不要再來找我」｜洪培翔', 'video_description': '00:00 神秘力量牽引？外地人走捷徑赫見甘蔗園女焦屍！火燒變形SIM卡一開機鈴聲就響！是誰打來？\\n10:40 心軟幫忙挪公款竟惹麻煩？出門散心卻成焦屍...', 'cid': 'Ugz4-DdBRCZZgHCVmwR4AaABAg', 'comment_text': '還好最後老天收了命 不然又要養一個犯人', 'votes': 11, 'time': 1700056394.468745, 'star_num': 'star 3', 'mood': 'anger'}, {'video_id': 'WyCnyDt-vMQ', 'video_title': '【@ebcapocalypse  全集】20231112 單純女會計遇害成「甘蔗園女焦屍」緊追狠嫌索命！？冤魂現身「連法警書記官都目擊」！？凶手回現場求饒「死者不要再來找我」｜洪培翔', 'video_description': '00:00 神秘力量牽引？外地人走捷徑赫見甘蔗園女焦屍！火燒變形SIM卡一開機鈴聲就響！是誰打來？\\n10:40 心軟幫忙挪公款竟惹麻煩？出門散心卻成焦屍...', 'cid': 'Ugzy2bn5yjjXGfsc7e14AaABAg', 'comment_text': '老爸在澳洲做緊急手術 台灣的姊姊看到爸爸影子 真的很玄', 'votes': 5, 'time': 1700056395.571893, 'star_num': 'star 5', 'mood': 'disgust'}, {'video_id': 'WyCnyDt-vMQ', 'video_title': '【@ebcapocalypse  全集】20231112 單純女會計遇害成「甘蔗園女焦屍」緊追狠嫌索命！？冤魂現身「連法警書記官都目擊」！？凶手回現場求饒「死者不要再來找我」｜洪培翔', 'video_description': '00:00 神秘力量牽引？外地人走捷徑赫見甘蔗園女焦屍！火燒變形SIM卡一開機鈴聲就響！是誰打來？\\n10:40 心軟幫忙挪公款竟惹麻煩？出門散心卻成焦屍...', 'cid': 'UgyzUlfM1Cdp4UncZjd4AaABAg', 'comment_text': '無期假釋再犯還能在判無期🙄️\\n法官也是殺人兇手之一吧', 'votes': 84, 'time': 1700056391.1157, 'star_num': 'star 5', 'mood': 'anger'}]\n",
      "Dataset({\n",
      "    features: ['video_id', 'video_title', 'video_description', 'cid', 'comment_text', 'votes', 'time', 'star_num', 'mood'],\n",
      "    num_rows: 134\n",
      "})\n"
     ]
    }
   ],
   "source": [
    "if __name__ == '__main__':\n",
    "    PATH = \"./train_data/\"\n",
    "    content = read_json_files(PATH, 1, None, True)\n",
    "    print(content[:5])\n",
    "    dataset = Dataset.from_list(content)\n",
    "    print(dataset)\n"
   ]
  }
 ],
 "metadata": {
  "kernelspec": {
   "display_name": "adl-hw3",
   "language": "python",
   "name": "python3"
  },
  "language_info": {
   "codemirror_mode": {
    "name": "ipython",
    "version": 3
   },
   "file_extension": ".py",
   "mimetype": "text/x-python",
   "name": "python",
   "nbconvert_exporter": "python",
   "pygments_lexer": "ipython3",
   "version": "3.10.13"
  }
 },
 "nbformat": 4,
 "nbformat_minor": 2
}
