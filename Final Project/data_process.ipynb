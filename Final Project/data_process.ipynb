{
 "cells": [
  {
   "cell_type": "code",
   "execution_count": 1,
   "metadata": {},
   "outputs": [
    {
     "name": "stderr",
     "output_type": "stream",
     "text": [
      "d:\\anaconda3\\envs\\adl-hw3\\Lib\\site-packages\\tqdm\\auto.py:21: TqdmWarning: IProgress not found. Please update jupyter and ipywidgets. See https://ipywidgets.readthedocs.io/en/stable/user_install.html\n",
      "  from .autonotebook import tqdm as notebook_tqdm\n"
     ]
    }
   ],
   "source": [
    "import copy\n",
    "import json\n",
    "import os\n",
    "import sys\n",
    "import numpy as np\n",
    "import random\n",
    "\n",
    "import datasets\n",
    "from datasets import Dataset\n",
    "import torch\n",
    "import transformers\n",
    "from torch.nn.utils.rnn import pad_sequence\n",
    "import argparse\n"
   ]
  },
  {
   "cell_type": "code",
   "execution_count": 2,
   "metadata": {},
   "outputs": [],
   "source": [
    "def read_json_files(path, max_file_num:int = None, shuffle = True):\n",
    "    json_files_content = {}\n",
    "    content_list = []\n",
    "    # Get the file names\n",
    "    files = []\n",
    "    for root, dirs, filenames in os.walk(path):\n",
    "        for file in filenames:\n",
    "            if file.endswith('.json') and file != \"star_record.json\":\n",
    "                files.append(os.path.join(root, file))  \n",
    "    # Shuffle the list\n",
    "    if shuffle:\n",
    "        random.shuffle(files)\n",
    "    # Read the files\n",
    "    file_num = 0         \n",
    "    for file in files:\n",
    "        file_num = file_num + 1\n",
    "        with open(file, 'r', encoding='utf-8') as f:\n",
    "            content = json.load(f)\n",
    "            # json_files_content[file] = content\n",
    "            for record in content:\n",
    "                if type(record['votes']) == str:\n",
    "                    if '萬' in record['votes']:\n",
    "                        record['votes'] = int(record['votes'].replace('萬', '')) * 10000\n",
    "            content_list += content\n",
    "        if max_file_num is not None and file_num >= max_file_num:\n",
    "            break\n",
    "    return content_list\n"
   ]
  },
  {
   "cell_type": "code",
   "execution_count": 3,
   "metadata": {},
   "outputs": [],
   "source": [
    "def get_prompt(title:str, description:str, star_num:str, mood:str) -> str:\n",
    "    '''Format the instruction as a prompt for LLM.'''\n",
    "    \n",
    "    seed = random.random()\n",
    "    comment_type = '好評' if star_num.split('.')[0] in ['4', '5'] else '差評' if star_num.split('.')[0] in ['1', '2'] else '中立評論'\n",
    "    if mood == 'like':\n",
    "        mood = '喜歡'\n",
    "    elif mood == 'happiness':\n",
    "        mood = '開心'\n",
    "    elif mood == 'sadness':\n",
    "        mood = '難過'\n",
    "    elif mood == 'disgust':\n",
    "        mood = '厭惡'\n",
    "    elif mood == 'anger':\n",
    "        mood = '生氣'\n",
    "    elif mood == 'surprise':\n",
    "        mood = '驚訝'\n",
    "    elif mood == 'fear':\n",
    "        mood = '害怕'\n",
    "    elif mood == 'none':\n",
    "        mood = '中立'\n",
    "    \n",
    "    return f\"{seed} 你是人工智慧助理，以下是用戶和人工智能助理之間的對話。你要對用戶的問題提供有用、詳細的回答。\\\n",
    "USER: 請幫這部影片生出對應需求的{comment_type}。影片標題:[{title}]。影片敘述:[{description}]。需求情感:[{mood}]。\\\n",
    "ASSISTANT:\"\n"
   ]
  },
  {
   "cell_type": "code",
   "execution_count": 8,
   "metadata": {},
   "outputs": [
    {
     "name": "stdout",
     "output_type": "stream",
     "text": [
      "[{'video_id': 'g5fBP8mhzw4', 'video_title': 'Unboxing📦 #15 吃一口回日本🇯🇵四間超道地日料小吃！鰻魚飯、章魚燒、文字燒...「有媽媽的味道🥹」｜阿部瑪利亞 Maria Abe', 'video_description': '這集開箱了四間「超道地的日本料理店」😋\\n歡迎大家跟著我去吃吃看喔~🫶\\n\\n♔ 2𝐧𝐝 𝐒𝐢𝐧𝐠𝐥𝐞 ♔\\nʟɪsᴛᴇɴ ɴᴏᴡ▸ https://fanlink.to/abunai...', 'cid': 'Ugy67A1Vb1VNroxxORF4AaABAg', 'comment_text': '這4種日本美食\\n每一個看起來都很好吃的感覺🤤\\n台灣的日本食物為了迎合台灣人的口味\\n而會去調整口味\\n不過由阿部桑介紹的這些美食\\n有機會來去吃吃看😋', 'votes': 18, 'time': 1691436586.972862, 'star_num': 'star 4', 'mood': 'like'}, {'video_id': 'g5fBP8mhzw4', 'video_title': 'Unboxing📦 #15 吃一口回日本🇯🇵四間超道地日料小吃！鰻魚飯、章魚燒、文字燒...「有媽媽的味道🥹」｜阿部瑪利亞 Maria Abe', 'video_description': '這集開箱了四間「超道地的日本料理店」😋\\n歡迎大家跟著我去吃吃看喔~🫶\\n\\n♔ 2𝐧𝐝 𝐒𝐢𝐧𝐠𝐥𝐞 ♔\\nʟɪsᴛᴇɴ ɴᴏᴡ▸ https://fanlink.to/abunai...', 'cid': 'UgyKoa2Dl5AkPGNPIN94AaABAg', 'comment_text': '日本料理真的很好吃～～～\\n尤其是迴轉壽司更是一級棒❤❤❤', 'votes': 16, 'time': 1691436586.975106, 'star_num': 'star 5', 'mood': 'like'}, {'video_id': 'g5fBP8mhzw4', 'video_title': 'Unboxing📦 #15 吃一口回日本🇯🇵四間超道地日料小吃！鰻魚飯、章魚燒、文字燒...「有媽媽的味道🥹」｜阿部瑪利亞 Maria Abe', 'video_description': '這集開箱了四間「超道地的日本料理店」😋\\n歡迎大家跟著我去吃吃看喔~🫶\\n\\n♔ 2𝐧𝐝 𝐒𝐢𝐧𝐠𝐥𝐞 ♔\\nʟɪsᴛᴇɴ ɴᴏᴡ▸ https://fanlink.to/abunai...', 'cid': 'UgzRwEw4UDXcRVrCLKp4AaABAg', 'comment_text': '不行啦！阿部已經台灣化太久了，要找幾個日本朋友來一起吃，才有公信力爹斯😚', 'votes': 89, 'time': 1691436586.976889, 'star_num': 'star 2', 'mood': 'anger'}, {'video_id': 'g5fBP8mhzw4', 'video_title': 'Unboxing📦 #15 吃一口回日本🇯🇵四間超道地日料小吃！鰻魚飯、章魚燒、文字燒...「有媽媽的味道🥹」｜阿部瑪利亞 Maria Abe', 'video_description': '這集開箱了四間「超道地的日本料理店」😋\\n歡迎大家跟著我去吃吃看喔~🫶\\n\\n♔ 2𝐧𝐝 𝐒𝐢𝐧𝐠𝐥𝐞 ♔\\nʟɪsᴛᴇɴ ɴᴏᴡ▸ https://fanlink.to/abunai...', 'cid': 'UgwiU90OMBAPad84cb54AaABAg', 'comment_text': '喜歡這個企劃~因為日本沒有辦法天天去，每次想吃道地的日本料理，評論大多是台灣人留的，之前就有一點困擾。希望能有更多的推薦!!', 'votes': 9, 'time': 1691436586.978603, 'star_num': 'star 4', 'mood': 'like'}, {'video_id': 'g5fBP8mhzw4', 'video_title': 'Unboxing📦 #15 吃一口回日本🇯🇵四間超道地日料小吃！鰻魚飯、章魚燒、文字燒...「有媽媽的味道🥹」｜阿部瑪利亞 Maria Abe', 'video_description': '這集開箱了四間「超道地的日本料理店」😋\\n歡迎大家跟著我去吃吃看喔~🫶\\n\\n♔ 2𝐧𝐝 𝐒𝐢𝐧𝐠𝐥𝐞 ♔\\nʟɪsᴛᴇɴ ɴᴏᴡ▸ https://fanlink.to/abunai...', 'cid': 'UgxLlvzNwuCYCqQyaIp4AaABAg', 'comment_text': '跟著阿部吃起來~\\n\\n1.肥前屋：台北市中山區中山北路一段121巷13號\\n2.アツアツ章魚燒：台北市中山區中山北路一段83巷11-2號\\n3.UMAI沖繩飯糰：台北市大安區信義路四段186巷17號1樓\\n4.木村屋：台北市中山區林森北路133巷27號1樓', 'votes': 18, 'time': 1691436586.980352, 'star_num': 'star 5', 'mood': 'none'}]\n",
      "Dataset({\n",
      "    features: ['video_id', 'video_title', 'video_description', 'cid', 'comment_text', 'votes', 'time', 'star_num', 'mood'],\n",
      "    num_rows: 91287\n",
      "})\n"
     ]
    }
   ],
   "source": [
    "if __name__ == '__main__':\n",
    "    PATH = \"./train_data/\"\n",
    "    content = read_json_files(PATH, 300, True)\n",
    "    print(content[:5])\n",
    "    dataset = Dataset.from_list(content)\n",
    "    print(dataset)\n"
   ]
  }
 ],
 "metadata": {
  "kernelspec": {
   "display_name": "adl-hw3",
   "language": "python",
   "name": "python3"
  },
  "language_info": {
   "codemirror_mode": {
    "name": "ipython",
    "version": 3
   },
   "file_extension": ".py",
   "mimetype": "text/x-python",
   "name": "python",
   "nbconvert_exporter": "python",
   "pygments_lexer": "ipython3",
   "version": "3.11.5"
  }
 },
 "nbformat": 4,
 "nbformat_minor": 2
}
