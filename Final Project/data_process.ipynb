{
 "cells": [
  {
   "cell_type": "code",
   "execution_count": 1,
   "metadata": {},
   "outputs": [
    {
     "name": "stderr",
     "output_type": "stream",
     "text": [
      "d:\\anaconda3\\envs\\adl-hw3\\Lib\\site-packages\\tqdm\\auto.py:21: TqdmWarning: IProgress not found. Please update jupyter and ipywidgets. See https://ipywidgets.readthedocs.io/en/stable/user_install.html\n",
      "  from .autonotebook import tqdm as notebook_tqdm\n"
     ]
    }
   ],
   "source": [
    "import copy\n",
    "import json\n",
    "import os\n",
    "import sys\n",
    "import numpy as np\n",
    "import random\n",
    "import pandas as pd\n",
    "\n",
    "import datasets\n",
    "from datasets import Dataset\n",
    "import torch\n",
    "import transformers\n",
    "import argparse\n"
   ]
  },
  {
   "cell_type": "code",
   "execution_count": 6,
   "metadata": {},
   "outputs": [],
   "source": [
    "def read_json_files(path) -> pd.DataFrame:\n",
    "    '''\n",
    "    Returns a dataframe of root directory, file names, and content(list) of json files\n",
    "    '''\n",
    "    roots = []\n",
    "    file_names = []\n",
    "    contents = []\n",
    "    # Fast return if the path is a file\n",
    "    if path.endswith('.json'):\n",
    "        with open(path, 'r', encoding='utf-8') as f:\n",
    "            content = json.load(f)\n",
    "        for record in content:\n",
    "            if type(record['votes']) == str:\n",
    "                if '萬' in record['votes']:\n",
    "                    record['votes'] = int(record['votes'].replace('萬', '')) * 10000\n",
    "        return pd.DataFrame({'root': [path], 'file_name': [path.split('/')[-1]], 'content': [content]})\n",
    "    \n",
    "    # Get the file names\n",
    "    for root, dirnames, filenames in os.walk(path):\n",
    "        for file in filenames:\n",
    "            if file.endswith('.json') and file != \"star_record.json\":\n",
    "                with open(os.path.join(root,file), 'r', encoding='utf-8') as f:\n",
    "                    content = json.load(f)\n",
    "                for record in content:\n",
    "                    if type(record['votes']) == str:\n",
    "                        if '萬' in record['votes']:\n",
    "                            record['votes'] = int(record['votes'].replace('萬', '')) * 10000\n",
    "                roots.append(root)\n",
    "                file_names.append(file)\n",
    "                contents.append(content)\n",
    "    return pd.DataFrame({'root': roots, 'file_name': file_names, 'content': contents})\n"
   ]
  },
  {
   "cell_type": "code",
   "execution_count": 3,
   "metadata": {},
   "outputs": [],
   "source": [
    "def data_clean(data: pd.DataFrame, seed:int) :\n",
    "    '''\n",
    "    Randomly select data from each file and return a new dataframe\n",
    "    '''\n",
    "    pass"
   ]
  },
  {
   "cell_type": "code",
   "execution_count": 4,
   "metadata": {},
   "outputs": [],
   "source": [
    "def get_prompt(title:str, description:str, star_num:str, mood:str) -> str:\n",
    "    '''Format the instruction as a prompt for LLM.'''\n",
    "\n",
    "    comment_type = '正面評論' if star_num.split('.')[0] in ['4', '5'] else '負面評論' if star_num.split('.')[0] in ['1', '2'] else '中立評論'\n",
    "    if mood == 'like':\n",
    "        mood = '喜歡'\n",
    "    elif mood == 'happiness':\n",
    "        mood = '開心'\n",
    "    elif mood == 'sadness':\n",
    "        mood = '難過'\n",
    "    elif mood == 'disgust':\n",
    "        mood = '厭惡'\n",
    "    elif mood == 'anger':\n",
    "        mood = '生氣'\n",
    "    elif mood == 'surprise':\n",
    "        mood = '驚訝'\n",
    "    elif mood == 'fear':\n",
    "        mood = '害怕'\n",
    "    elif mood == 'none':\n",
    "        mood = '中立'\n",
    "    \n",
    "    return f\"你是人工智慧助理，以下是用戶和人工智能助理之間的對話。你要對用戶的問題提供有用、詳細的回答。\\\n",
    "USER: 請幫這部影片生出對應需求的{comment_type}。影片標題:[{title}]。影片敘述:[{description}]。需求情感:[{mood}]。\\\n",
    "ASSISTANT:\"\n"
   ]
  },
  {
   "cell_type": "code",
   "execution_count": 7,
   "metadata": {},
   "outputs": [
    {
     "name": "stdout",
     "output_type": "stream",
     "text": [
      "                                      root         file_name  \\\n",
      "0    ./train_data/UC2tRcusVoXSGqUcSu1GO4Ng  0feSmsxPxJU.json   \n",
      "1    ./train_data/UC2tRcusVoXSGqUcSu1GO4Ng  0qUN__KR2Yo.json   \n",
      "2    ./train_data/UC2tRcusVoXSGqUcSu1GO4Ng  58hgqzKp9Ww.json   \n",
      "3    ./train_data/UC2tRcusVoXSGqUcSu1GO4Ng  6jqnfDMOB2A.json   \n",
      "4    ./train_data/UC2tRcusVoXSGqUcSu1GO4Ng  6zmD-jGdumQ.json   \n",
      "..                                     ...               ...   \n",
      "288  ./train_data/UCD2KoUc0f4Bv2Bz0mbOah8g  VqUyMkUsn4U.json   \n",
      "289  ./train_data/UCD2KoUc0f4Bv2Bz0mbOah8g  wOUaVIK6TG8.json   \n",
      "290  ./train_data/UCD2KoUc0f4Bv2Bz0mbOah8g  xBb3sBPVABE.json   \n",
      "291  ./train_data/UCD2KoUc0f4Bv2Bz0mbOah8g  XZf-cVBs5lg.json   \n",
      "292  ./train_data/UCD2KoUc0f4Bv2Bz0mbOah8g  yi0HBexLP1k.json   \n",
      "\n",
      "                                               content  \n",
      "0    [{'video_id': '0feSmsxPxJU', 'video_title': '#...  \n",
      "1    [{'video_id': '0qUN__KR2Yo', 'video_title': '哇...  \n",
      "2    [{'video_id': '58hgqzKp9Ww', 'video_title': '挑...  \n",
      "3    [{'video_id': '6jqnfDMOB2A', 'video_title': '交...  \n",
      "4    [{'video_id': '6zmD-jGdumQ', 'video_title': 'U...  \n",
      "..                                                 ...  \n",
      "288  [{'video_id': 'VqUyMkUsn4U', 'video_title': 'A...  \n",
      "289  [{'video_id': 'wOUaVIK6TG8', 'video_title': '百...  \n",
      "290  [{'video_id': 'xBb3sBPVABE', 'video_title': 'K...  \n",
      "291  [{'video_id': 'XZf-cVBs5lg', 'video_title': '百...  \n",
      "292  [{'video_id': 'yi0HBexLP1k', 'video_title': '預...  \n",
      "\n",
      "[293 rows x 3 columns]\n"
     ]
    }
   ],
   "source": [
    "if __name__ == '__main__':\n",
    "    PATH = \"./train_data/\"\n",
    "    content = read_json_files(PATH)\n",
    "    print(content)\n"
   ]
  },
  {
   "cell_type": "code",
   "execution_count": null,
   "metadata": {},
   "outputs": [],
   "source": []
  }
 ],
 "metadata": {
  "kernelspec": {
   "display_name": "adl-hw3",
   "language": "python",
   "name": "python3"
  },
  "language_info": {
   "codemirror_mode": {
    "name": "ipython",
    "version": 3
   },
   "file_extension": ".py",
   "mimetype": "text/x-python",
   "name": "python",
   "nbconvert_exporter": "python",
   "pygments_lexer": "ipython3",
   "version": "3.11.5"
  }
 },
 "nbformat": 4,
 "nbformat_minor": 2
}
