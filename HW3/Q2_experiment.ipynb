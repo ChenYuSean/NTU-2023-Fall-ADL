{
 "cells": [
  {
   "cell_type": "code",
   "execution_count": 1,
   "metadata": {},
   "outputs": [
    {
     "name": "stderr",
     "output_type": "stream",
     "text": [
      "/home/vr/anaconda3/envs/adl-hw3-copy/lib/python3.10/site-packages/tqdm/auto.py:21: TqdmWarning: IProgress not found. Please update jupyter and ipywidgets. See https://ipywidgets.readthedocs.io/en/stable/user_install.html\n",
      "  from .autonotebook import tqdm as notebook_tqdm\n"
     ]
    }
   ],
   "source": [
    "import torch\n",
    "import numpy as np\n",
    "from tqdm import tqdm\n",
    "from transformers import AutoModelForCausalLM, AutoTokenizer\n",
    "import json\n",
    "from peft import PeftModel\n",
    "from utils import get_prompt, get_bnb_config\n",
    "import argparse"
   ]
  },
  {
   "cell_type": "code",
   "execution_count": 2,
   "metadata": {},
   "outputs": [],
   "source": [
    "BASE_MODEL = 'Taiwan-LLM-7B-v2.0-chat'\n",
    "PEFT_MODEL = 'OUTPUTS/300steps/checkpoint-250'\n",
    "DATA_PATH = 'data/public_test.json'"
   ]
  },
  {
   "cell_type": "code",
   "execution_count": 3,
   "metadata": {},
   "outputs": [],
   "source": [
    "def perplexity(\n",
    "    model, tokenizer, data, prompt_func =lambda x: x, max_length=2048,\n",
    "):\n",
    "    data_size = len(data)\n",
    "    instructions = [prompt_func(x[\"instruction\"]) for x in data]\n",
    "    outputs = [x[\"output\"] for x in data]\n",
    "\n",
    "    # Tokenize data\n",
    "    tokenized_instructions = tokenizer(instructions, add_special_tokens=False)\n",
    "    tokenized_outputs = tokenizer(outputs, add_special_tokens=False)\n",
    "    output_masks = []\n",
    "\n",
    "    # Format data\n",
    "    for i in range(data_size):\n",
    "        instruction_input_ids = [tokenizer.bos_token_id] + \\\n",
    "            tokenized_instructions[\"input_ids\"][i]\n",
    "        output_input_ids = tokenized_outputs[\"input_ids\"][i] + \\\n",
    "            [tokenizer.eos_token_id]\n",
    "        tokenized_instructions[\"input_ids\"][i] = instruction_input_ids + \\\n",
    "            output_input_ids\n",
    "        tokenized_instructions[\"attention_mask\"][i] = [\n",
    "            1] * len(tokenized_instructions[\"input_ids\"][i])\n",
    "        output_mask = [0] * len(instruction_input_ids) + \\\n",
    "            [1] * len(output_input_ids)\n",
    "\n",
    "        tokenized_instructions[\"input_ids\"][i] = torch.tensor(\n",
    "            tokenized_instructions[\"input_ids\"][i][:max_length])\n",
    "        tokenized_instructions[\"attention_mask\"][i] = torch.tensor(\n",
    "            tokenized_instructions[\"attention_mask\"][i][:max_length])\n",
    "        output_mask = torch.tensor(output_mask[:max_length])\n",
    "        output_masks.append(output_mask)\n",
    "\n",
    "    # Calculate ppl\n",
    "    ppls = []\n",
    "    loss_fct = torch.nn.CrossEntropyLoss(reduction=\"none\")\n",
    "    for i in tqdm(range(data_size)):\n",
    "        input_ids = tokenized_instructions[\"input_ids\"][i].unsqueeze(0)\n",
    "        attn_mask = tokenized_instructions[\"attention_mask\"][i].unsqueeze(0)\n",
    "        output_mask = output_masks[i].unsqueeze(0)\n",
    "        label = input_ids\n",
    "\n",
    "        with torch.no_grad():\n",
    "            out_logits = model(input_ids, attention_mask=attn_mask).logits\n",
    "\n",
    "        shift_logits = out_logits[..., :-1, :].contiguous()\n",
    "        shift_label = label[..., 1:].contiguous()\n",
    "        shift_output_mask = output_mask[..., 1:].contiguous()\n",
    "        perplexity_batch = torch.exp(\n",
    "            (loss_fct(shift_logits.transpose(1, 2),\n",
    "             shift_label) * shift_output_mask).sum(1)\n",
    "            / shift_output_mask.sum(1)\n",
    "        )\n",
    "        ppls += perplexity_batch.tolist()\n",
    "    return {\"perplexities\": ppls, \"mean_perplexity\": np.mean(ppls)}"
   ]
  },
  {
   "cell_type": "code",
   "execution_count": 4,
   "metadata": {},
   "outputs": [],
   "source": [
    "def zero_shot(instruction: str) -> str:\n",
    "    return f\"{instruction}\"\n",
    "\n",
    "def few_shot(instruction: str) -> str:\n",
    "    return f\"以下為範例題目:翻譯成文言文：\\n雅裏惱怒地說： 從前在福山田獵時，你誣陷獵官，現在又說這種話。範例答案：雅裏怒曰： 昔畋於福山，卿誣獵官，今復有此言。{instruction}，答案：\""
   ]
  },
  {
   "cell_type": "code",
   "execution_count": 5,
   "metadata": {},
   "outputs": [
    {
     "name": "stdout",
     "output_type": "stream",
     "text": [
      "Load Model\n"
     ]
    },
    {
     "name": "stderr",
     "output_type": "stream",
     "text": [
      "Loading checkpoint shards: 100%|██████████| 2/2 [00:06<00:00,  3.17s/it]"
     ]
    },
    {
     "name": "stdout",
     "output_type": "stream",
     "text": [
      "Load Tokenizer\n"
     ]
    },
    {
     "name": "stderr",
     "output_type": "stream",
     "text": [
      "\n"
     ]
    }
   ],
   "source": [
    "# Model\n",
    "print('Load Model')\n",
    "bnb_config = get_bnb_config()\n",
    "\n",
    "base_model = AutoModelForCausalLM.from_pretrained(\n",
    "    BASE_MODEL,\n",
    "    torch_dtype=torch.bfloat16,\n",
    "    quantization_config=bnb_config\n",
    ")\n",
    "base_model.eval()\n",
    "# Model\n",
    "print('Load Tokenizer')\n",
    "tokenizer = AutoTokenizer.from_pretrained(\n",
    "    BASE_MODEL,\n",
    "    padding_side=\"right\",\n",
    "    use_fast=False,\n",
    "    tokenizer_type='llama'\n",
    ")\n",
    "tokenizer.add_special_tokens({\n",
    "    \"eos_token\": tokenizer.convert_ids_to_tokens(base_model.config.eos_token_id),\n",
    "    \"bos_token\": tokenizer.convert_ids_to_tokens(base_model.config.bos_token_id),\n",
    "    \"unk_token\": tokenizer.convert_ids_to_tokens(tokenizer.pad_token_id),\n",
    "})\n",
    "# Data\n",
    "with open(DATA_PATH, \"r\") as f:\n",
    "    data = json.load(f)"
   ]
  },
  {
   "cell_type": "code",
   "execution_count": 6,
   "metadata": {},
   "outputs": [
    {
     "name": "stderr",
     "output_type": "stream",
     "text": [
      " 55%|█████▍    | 137/250 [01:02<00:46,  2.44it/s]"
     ]
    }
   ],
   "source": [
    "zero_ppl = perplexity(base_model, tokenizer, data, zero_shot)\n",
    "print(\"Mean perplexity:\", zero_ppl[\"mean_perplexity\"])"
   ]
  },
  {
   "cell_type": "code",
   "execution_count": null,
   "metadata": {},
   "outputs": [],
   "source": [
    "few_ppl = perplexity(base_model, tokenizer, data, few_shot)\n",
    "print(\"Mean perplexity:\", few_ppl[\"mean_perplexity\"])"
   ]
  },
  {
   "cell_type": "code",
   "execution_count": null,
   "metadata": {},
   "outputs": [
    {
     "name": "stderr",
     "output_type": "stream",
     "text": [
      "100%|██████████| 250/250 [02:41<00:00,  1.55it/s]"
     ]
    },
    {
     "name": "stdout",
     "output_type": "stream",
     "text": [
      "Mean perplexity: 3.882264895915985\n"
     ]
    },
    {
     "name": "stderr",
     "output_type": "stream",
     "text": [
      "\n"
     ]
    }
   ],
   "source": [
    "# Load LoRA\n",
    "lora_model = PeftModel.from_pretrained(base_model, PEFT_MODEL)\n",
    "lora_model.eval()\n",
    "lora_ppl = perplexity(lora_model, tokenizer, data, get_prompt)\n",
    "print(\"Mean perplexity:\", lora_ppl[\"mean_perplexity\"])"
   ]
  }
 ],
 "metadata": {
  "kernelspec": {
   "display_name": "adl-hw3-copy",
   "language": "python",
   "name": "python3"
  },
  "language_info": {
   "codemirror_mode": {
    "name": "ipython",
    "version": 3
   },
   "file_extension": ".py",
   "mimetype": "text/x-python",
   "name": "python",
   "nbconvert_exporter": "python",
   "pygments_lexer": "ipython3",
   "version": "3.10.13"
  }
 },
 "nbformat": 4,
 "nbformat_minor": 2
}
